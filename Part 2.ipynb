{
 "cells": [
  {
   "cell_type": "code",
   "execution_count": 1,
   "id": "c1dc3214",
   "metadata": {},
   "outputs": [],
   "source": [
    "import pandas as pd\n",
    "import numpy as np\n",
    "import seaborn as sns\n",
    "from matplotlib import pyplot as plt\n",
    "isp2=pd.read_csv(\"C:/Users/Neeraj Dheeman/Desktop/ideaspiceemployeeturnoverdatset.csv\")"
   ]
  },
  {
   "cell_type": "code",
   "execution_count": 2,
   "id": "ced2fee9",
   "metadata": {},
   "outputs": [],
   "source": [
    "from sklearn.preprocessing import LabelEncoder"
   ]
  },
  {
   "cell_type": "code",
   "execution_count": 3,
   "id": "0e86520b",
   "metadata": {},
   "outputs": [
    {
     "data": {
      "text/html": [
       "<div>\n",
       "<style scoped>\n",
       "    .dataframe tbody tr th:only-of-type {\n",
       "        vertical-align: middle;\n",
       "    }\n",
       "\n",
       "    .dataframe tbody tr th {\n",
       "        vertical-align: top;\n",
       "    }\n",
       "\n",
       "    .dataframe thead th {\n",
       "        text-align: right;\n",
       "    }\n",
       "</style>\n",
       "<table border=\"1\" class=\"dataframe\">\n",
       "  <thead>\n",
       "    <tr style=\"text-align: right;\">\n",
       "      <th></th>\n",
       "      <th>EmployeId</th>\n",
       "      <th>Age</th>\n",
       "      <th>Gender</th>\n",
       "      <th>MaritalStatus</th>\n",
       "      <th>Turnover</th>\n",
       "      <th>Travelling</th>\n",
       "      <th>Vertical</th>\n",
       "      <th>Qualifications</th>\n",
       "      <th>EducationField</th>\n",
       "      <th>EmployeSatisfaction</th>\n",
       "      <th>...</th>\n",
       "      <th>RelationshipSatisfaction</th>\n",
       "      <th>Hours</th>\n",
       "      <th>StockOptionLevel</th>\n",
       "      <th>TrainingTimesLastYear</th>\n",
       "      <th>Work&amp;Life</th>\n",
       "      <th>YearsAtCompany</th>\n",
       "      <th>YearsInCurrentRole</th>\n",
       "      <th>YearsSinceLastPromotion</th>\n",
       "      <th>YearsWithCurrentManager</th>\n",
       "      <th>DistanceFromHome</th>\n",
       "    </tr>\n",
       "  </thead>\n",
       "  <tbody>\n",
       "    <tr>\n",
       "      <th>0</th>\n",
       "      <td>63</td>\n",
       "      <td>29</td>\n",
       "      <td>M</td>\n",
       "      <td>Divorced</td>\n",
       "      <td>No</td>\n",
       "      <td>Sometimes</td>\n",
       "      <td>Research &amp; Development</td>\n",
       "      <td>1</td>\n",
       "      <td>Medical</td>\n",
       "      <td>3</td>\n",
       "      <td>...</td>\n",
       "      <td>4</td>\n",
       "      <td>80</td>\n",
       "      <td>1</td>\n",
       "      <td>2</td>\n",
       "      <td>3</td>\n",
       "      <td>3</td>\n",
       "      <td>2</td>\n",
       "      <td>2</td>\n",
       "      <td>2</td>\n",
       "      <td>2</td>\n",
       "    </tr>\n",
       "    <tr>\n",
       "      <th>1</th>\n",
       "      <td>723</td>\n",
       "      <td>23</td>\n",
       "      <td>M</td>\n",
       "      <td>Single</td>\n",
       "      <td>No</td>\n",
       "      <td>Mostly</td>\n",
       "      <td>Sales</td>\n",
       "      <td>1</td>\n",
       "      <td>Life Sciences</td>\n",
       "      <td>2</td>\n",
       "      <td>...</td>\n",
       "      <td>4</td>\n",
       "      <td>80</td>\n",
       "      <td>0</td>\n",
       "      <td>3</td>\n",
       "      <td>3</td>\n",
       "      <td>1</td>\n",
       "      <td>0</td>\n",
       "      <td>0</td>\n",
       "      <td>0</td>\n",
       "      <td>6</td>\n",
       "    </tr>\n",
       "    <tr>\n",
       "      <th>2</th>\n",
       "      <td>1297</td>\n",
       "      <td>36</td>\n",
       "      <td>M</td>\n",
       "      <td>Single</td>\n",
       "      <td>Yes</td>\n",
       "      <td>Sometimes</td>\n",
       "      <td>Human Resources</td>\n",
       "      <td>4</td>\n",
       "      <td>Life Sciences</td>\n",
       "      <td>2</td>\n",
       "      <td>...</td>\n",
       "      <td>3</td>\n",
       "      <td>80</td>\n",
       "      <td>0</td>\n",
       "      <td>3</td>\n",
       "      <td>4</td>\n",
       "      <td>7</td>\n",
       "      <td>7</td>\n",
       "      <td>0</td>\n",
       "      <td>0</td>\n",
       "      <td>10</td>\n",
       "    </tr>\n",
       "    <tr>\n",
       "      <th>3</th>\n",
       "      <td>51</td>\n",
       "      <td>30</td>\n",
       "      <td>M</td>\n",
       "      <td>Divorced</td>\n",
       "      <td>No</td>\n",
       "      <td>Sometimes</td>\n",
       "      <td>Research &amp; Development</td>\n",
       "      <td>4</td>\n",
       "      <td>Medical</td>\n",
       "      <td>3</td>\n",
       "      <td>...</td>\n",
       "      <td>2</td>\n",
       "      <td>80</td>\n",
       "      <td>3</td>\n",
       "      <td>5</td>\n",
       "      <td>3</td>\n",
       "      <td>10</td>\n",
       "      <td>6</td>\n",
       "      <td>3</td>\n",
       "      <td>9</td>\n",
       "      <td>12</td>\n",
       "    </tr>\n",
       "    <tr>\n",
       "      <th>4</th>\n",
       "      <td>1498</td>\n",
       "      <td>29</td>\n",
       "      <td>M</td>\n",
       "      <td>Single</td>\n",
       "      <td>Yes</td>\n",
       "      <td>Sometimes</td>\n",
       "      <td>Sales</td>\n",
       "      <td>3</td>\n",
       "      <td>Technical Degree</td>\n",
       "      <td>4</td>\n",
       "      <td>...</td>\n",
       "      <td>1</td>\n",
       "      <td>80</td>\n",
       "      <td>0</td>\n",
       "      <td>2</td>\n",
       "      <td>3</td>\n",
       "      <td>3</td>\n",
       "      <td>2</td>\n",
       "      <td>2</td>\n",
       "      <td>2</td>\n",
       "      <td>24</td>\n",
       "    </tr>\n",
       "  </tbody>\n",
       "</table>\n",
       "<p>5 rows × 32 columns</p>\n",
       "</div>"
      ],
      "text/plain": [
       "   EmployeId  Age Gender MaritalStatus Turnover Travelling  \\\n",
       "0         63   29      M      Divorced       No  Sometimes   \n",
       "1        723   23      M        Single       No     Mostly   \n",
       "2       1297   36      M        Single      Yes  Sometimes   \n",
       "3         51   30      M      Divorced       No  Sometimes   \n",
       "4       1498   29      M        Single      Yes  Sometimes   \n",
       "\n",
       "                 Vertical  Qualifications    EducationField  \\\n",
       "0  Research & Development               1           Medical   \n",
       "1                   Sales               1     Life Sciences   \n",
       "2         Human Resources               4     Life Sciences   \n",
       "3  Research & Development               4           Medical   \n",
       "4                   Sales               3  Technical Degree   \n",
       "\n",
       "   EmployeSatisfaction  ...  RelationshipSatisfaction  Hours  \\\n",
       "0                    3  ...                         4     80   \n",
       "1                    2  ...                         4     80   \n",
       "2                    2  ...                         3     80   \n",
       "3                    3  ...                         2     80   \n",
       "4                    4  ...                         1     80   \n",
       "\n",
       "   StockOptionLevel TrainingTimesLastYear  Work&Life  YearsAtCompany  \\\n",
       "0                 1                     2          3               3   \n",
       "1                 0                     3          3               1   \n",
       "2                 0                     3          4               7   \n",
       "3                 3                     5          3              10   \n",
       "4                 0                     2          3               3   \n",
       "\n",
       "   YearsInCurrentRole  YearsSinceLastPromotion  YearsWithCurrentManager  \\\n",
       "0                   2                        2                        2   \n",
       "1                   0                        0                        0   \n",
       "2                   7                        0                        0   \n",
       "3                   6                        3                        9   \n",
       "4                   2                        2                        2   \n",
       "\n",
       "  DistanceFromHome  \n",
       "0                2  \n",
       "1                6  \n",
       "2               10  \n",
       "3               12  \n",
       "4               24  \n",
       "\n",
       "[5 rows x 32 columns]"
      ]
     },
     "execution_count": 3,
     "metadata": {},
     "output_type": "execute_result"
    }
   ],
   "source": [
    "isp2.head()"
   ]
  },
  {
   "cell_type": "code",
   "execution_count": 4,
   "id": "05f4fd02",
   "metadata": {},
   "outputs": [
    {
     "data": {
      "text/plain": [
       "Index(['EmployeId', 'Age', 'Gender', 'MaritalStatus', 'Turnover', 'Travelling',\n",
       "       'Vertical', 'Qualifications', 'EducationField', 'EmployeSatisfaction',\n",
       "       'JobEngagement', 'JobLevel', 'JobSatisfaction', 'Role', 'DailyBilling',\n",
       "       'HourBilling', 'MonthlyBilling', 'MonthlyRate', 'Work Experience',\n",
       "       'OverTime', 'PercentSalaryHike', 'Last Rating',\n",
       "       'RelationshipSatisfaction', 'Hours', 'StockOptionLevel',\n",
       "       'TrainingTimesLastYear', 'Work&Life', 'YearsAtCompany',\n",
       "       'YearsInCurrentRole', 'YearsSinceLastPromotion',\n",
       "       'YearsWithCurrentManager', 'DistanceFromHome'],\n",
       "      dtype='object')"
      ]
     },
     "execution_count": 4,
     "metadata": {},
     "output_type": "execute_result"
    }
   ],
   "source": [
    "isp2.columns"
   ]
  },
  {
   "cell_type": "code",
   "execution_count": 5,
   "id": "64b75669",
   "metadata": {},
   "outputs": [
    {
     "data": {
      "text/plain": [
       "EmployeId                   0\n",
       "Age                         0\n",
       "Gender                      0\n",
       "MaritalStatus               0\n",
       "Turnover                    0\n",
       "Travelling                  0\n",
       "Vertical                    0\n",
       "Qualifications              0\n",
       "EducationField              0\n",
       "EmployeSatisfaction         0\n",
       "JobEngagement               0\n",
       "JobLevel                    0\n",
       "JobSatisfaction             0\n",
       "Role                        0\n",
       "DailyBilling                0\n",
       "HourBilling                 0\n",
       "MonthlyBilling              0\n",
       "MonthlyRate                 0\n",
       "Work Experience             0\n",
       "OverTime                    0\n",
       "PercentSalaryHike           0\n",
       "Last Rating                 0\n",
       "RelationshipSatisfaction    0\n",
       "Hours                       0\n",
       "StockOptionLevel            0\n",
       "TrainingTimesLastYear       0\n",
       "Work&Life                   0\n",
       "YearsAtCompany              0\n",
       "YearsInCurrentRole          0\n",
       "YearsSinceLastPromotion     0\n",
       "YearsWithCurrentManager     0\n",
       "DistanceFromHome            0\n",
       "dtype: int64"
      ]
     },
     "execution_count": 5,
     "metadata": {},
     "output_type": "execute_result"
    }
   ],
   "source": [
    "isp2.isnull().sum()"
   ]
  },
  {
   "cell_type": "code",
   "execution_count": 6,
   "id": "60630e13",
   "metadata": {},
   "outputs": [
    {
     "data": {
      "text/plain": [
       "0"
      ]
     },
     "execution_count": 6,
     "metadata": {},
     "output_type": "execute_result"
    }
   ],
   "source": [
    "isp2.duplicated().sum()"
   ]
  },
  {
   "cell_type": "code",
   "execution_count": 7,
   "id": "7908bcdf",
   "metadata": {},
   "outputs": [
    {
     "name": "stdout",
     "output_type": "stream",
     "text": [
      "<class 'pandas.core.frame.DataFrame'>\n",
      "RangeIndex: 1470 entries, 0 to 1469\n",
      "Data columns (total 32 columns):\n",
      " #   Column                    Non-Null Count  Dtype \n",
      "---  ------                    --------------  ----- \n",
      " 0   EmployeId                 1470 non-null   int64 \n",
      " 1   Age                       1470 non-null   int64 \n",
      " 2   Gender                    1470 non-null   object\n",
      " 3   MaritalStatus             1470 non-null   object\n",
      " 4   Turnover                  1470 non-null   object\n",
      " 5   Travelling                1470 non-null   object\n",
      " 6   Vertical                  1470 non-null   object\n",
      " 7   Qualifications            1470 non-null   int64 \n",
      " 8   EducationField            1470 non-null   object\n",
      " 9   EmployeSatisfaction       1470 non-null   int64 \n",
      " 10  JobEngagement             1470 non-null   int64 \n",
      " 11  JobLevel                  1470 non-null   int64 \n",
      " 12  JobSatisfaction           1470 non-null   int64 \n",
      " 13  Role                      1470 non-null   object\n",
      " 14  DailyBilling              1470 non-null   int64 \n",
      " 15  HourBilling               1470 non-null   int64 \n",
      " 16  MonthlyBilling            1470 non-null   int64 \n",
      " 17  MonthlyRate               1470 non-null   int64 \n",
      " 18  Work Experience           1470 non-null   int64 \n",
      " 19  OverTime                  1470 non-null   object\n",
      " 20  PercentSalaryHike         1470 non-null   int64 \n",
      " 21  Last Rating               1470 non-null   int64 \n",
      " 22  RelationshipSatisfaction  1470 non-null   int64 \n",
      " 23  Hours                     1470 non-null   int64 \n",
      " 24  StockOptionLevel          1470 non-null   int64 \n",
      " 25  TrainingTimesLastYear     1470 non-null   int64 \n",
      " 26  Work&Life                 1470 non-null   int64 \n",
      " 27  YearsAtCompany            1470 non-null   int64 \n",
      " 28  YearsInCurrentRole        1470 non-null   int64 \n",
      " 29  YearsSinceLastPromotion   1470 non-null   int64 \n",
      " 30  YearsWithCurrentManager   1470 non-null   int64 \n",
      " 31  DistanceFromHome          1470 non-null   int64 \n",
      "dtypes: int64(24), object(8)\n",
      "memory usage: 367.6+ KB\n"
     ]
    }
   ],
   "source": [
    "isp2.info()"
   ]
  },
  {
   "cell_type": "code",
   "execution_count": 8,
   "id": "8a5f625d",
   "metadata": {},
   "outputs": [
    {
     "name": "stdout",
     "output_type": "stream",
     "text": [
      "LabelEncoder()\n"
     ]
    }
   ],
   "source": [
    "le = LabelEncoder()\n",
    "print(le)"
   ]
  },
  {
   "cell_type": "code",
   "execution_count": 9,
   "id": "65c97f3b",
   "metadata": {},
   "outputs": [],
   "source": [
    "# necessary features are converted into numerical features\n",
    "isp2['YearsAtCompany'] = le.fit_transform(isp2['YearsAtCompany'])"
   ]
  },
  {
   "cell_type": "code",
   "execution_count": 10,
   "id": "b75db8f3",
   "metadata": {},
   "outputs": [],
   "source": [
    "isp2['Gender'] = le.fit_transform(isp2['Gender'])"
   ]
  },
  {
   "cell_type": "code",
   "execution_count": 11,
   "id": "6ad26c5c",
   "metadata": {},
   "outputs": [],
   "source": [
    "isp2['MaritalStatus'] = le.fit_transform(isp2['MaritalStatus'])"
   ]
  },
  {
   "cell_type": "code",
   "execution_count": 12,
   "id": "a5be9dd8",
   "metadata": {},
   "outputs": [],
   "source": [
    "isp2['Turnover'] = le.fit_transform(isp2['Turnover'])"
   ]
  },
  {
   "cell_type": "code",
   "execution_count": 13,
   "id": "ea5febf7",
   "metadata": {},
   "outputs": [],
   "source": [
    "isp2['Travelling'] = le.fit_transform(isp2['Travelling'])"
   ]
  },
  {
   "cell_type": "code",
   "execution_count": 14,
   "id": "02538796",
   "metadata": {},
   "outputs": [
    {
     "data": {
      "text/html": [
       "<div>\n",
       "<style scoped>\n",
       "    .dataframe tbody tr th:only-of-type {\n",
       "        vertical-align: middle;\n",
       "    }\n",
       "\n",
       "    .dataframe tbody tr th {\n",
       "        vertical-align: top;\n",
       "    }\n",
       "\n",
       "    .dataframe thead th {\n",
       "        text-align: right;\n",
       "    }\n",
       "</style>\n",
       "<table border=\"1\" class=\"dataframe\">\n",
       "  <thead>\n",
       "    <tr style=\"text-align: right;\">\n",
       "      <th></th>\n",
       "      <th>EmployeId</th>\n",
       "      <th>Age</th>\n",
       "      <th>Gender</th>\n",
       "      <th>MaritalStatus</th>\n",
       "      <th>Turnover</th>\n",
       "      <th>Travelling</th>\n",
       "      <th>Vertical</th>\n",
       "      <th>Qualifications</th>\n",
       "      <th>EducationField</th>\n",
       "      <th>EmployeSatisfaction</th>\n",
       "      <th>...</th>\n",
       "      <th>RelationshipSatisfaction</th>\n",
       "      <th>Hours</th>\n",
       "      <th>StockOptionLevel</th>\n",
       "      <th>TrainingTimesLastYear</th>\n",
       "      <th>Work&amp;Life</th>\n",
       "      <th>YearsAtCompany</th>\n",
       "      <th>YearsInCurrentRole</th>\n",
       "      <th>YearsSinceLastPromotion</th>\n",
       "      <th>YearsWithCurrentManager</th>\n",
       "      <th>DistanceFromHome</th>\n",
       "    </tr>\n",
       "  </thead>\n",
       "  <tbody>\n",
       "    <tr>\n",
       "      <th>0</th>\n",
       "      <td>63</td>\n",
       "      <td>29</td>\n",
       "      <td>1</td>\n",
       "      <td>0</td>\n",
       "      <td>0</td>\n",
       "      <td>2</td>\n",
       "      <td>Research &amp; Development</td>\n",
       "      <td>1</td>\n",
       "      <td>Medical</td>\n",
       "      <td>3</td>\n",
       "      <td>...</td>\n",
       "      <td>4</td>\n",
       "      <td>80</td>\n",
       "      <td>1</td>\n",
       "      <td>2</td>\n",
       "      <td>3</td>\n",
       "      <td>3</td>\n",
       "      <td>2</td>\n",
       "      <td>2</td>\n",
       "      <td>2</td>\n",
       "      <td>2</td>\n",
       "    </tr>\n",
       "    <tr>\n",
       "      <th>1</th>\n",
       "      <td>723</td>\n",
       "      <td>23</td>\n",
       "      <td>1</td>\n",
       "      <td>2</td>\n",
       "      <td>0</td>\n",
       "      <td>0</td>\n",
       "      <td>Sales</td>\n",
       "      <td>1</td>\n",
       "      <td>Life Sciences</td>\n",
       "      <td>2</td>\n",
       "      <td>...</td>\n",
       "      <td>4</td>\n",
       "      <td>80</td>\n",
       "      <td>0</td>\n",
       "      <td>3</td>\n",
       "      <td>3</td>\n",
       "      <td>1</td>\n",
       "      <td>0</td>\n",
       "      <td>0</td>\n",
       "      <td>0</td>\n",
       "      <td>6</td>\n",
       "    </tr>\n",
       "    <tr>\n",
       "      <th>2</th>\n",
       "      <td>1297</td>\n",
       "      <td>36</td>\n",
       "      <td>1</td>\n",
       "      <td>2</td>\n",
       "      <td>1</td>\n",
       "      <td>2</td>\n",
       "      <td>Human Resources</td>\n",
       "      <td>4</td>\n",
       "      <td>Life Sciences</td>\n",
       "      <td>2</td>\n",
       "      <td>...</td>\n",
       "      <td>3</td>\n",
       "      <td>80</td>\n",
       "      <td>0</td>\n",
       "      <td>3</td>\n",
       "      <td>4</td>\n",
       "      <td>7</td>\n",
       "      <td>7</td>\n",
       "      <td>0</td>\n",
       "      <td>0</td>\n",
       "      <td>10</td>\n",
       "    </tr>\n",
       "    <tr>\n",
       "      <th>3</th>\n",
       "      <td>51</td>\n",
       "      <td>30</td>\n",
       "      <td>1</td>\n",
       "      <td>0</td>\n",
       "      <td>0</td>\n",
       "      <td>2</td>\n",
       "      <td>Research &amp; Development</td>\n",
       "      <td>4</td>\n",
       "      <td>Medical</td>\n",
       "      <td>3</td>\n",
       "      <td>...</td>\n",
       "      <td>2</td>\n",
       "      <td>80</td>\n",
       "      <td>3</td>\n",
       "      <td>5</td>\n",
       "      <td>3</td>\n",
       "      <td>10</td>\n",
       "      <td>6</td>\n",
       "      <td>3</td>\n",
       "      <td>9</td>\n",
       "      <td>12</td>\n",
       "    </tr>\n",
       "    <tr>\n",
       "      <th>4</th>\n",
       "      <td>1498</td>\n",
       "      <td>29</td>\n",
       "      <td>1</td>\n",
       "      <td>2</td>\n",
       "      <td>1</td>\n",
       "      <td>2</td>\n",
       "      <td>Sales</td>\n",
       "      <td>3</td>\n",
       "      <td>Technical Degree</td>\n",
       "      <td>4</td>\n",
       "      <td>...</td>\n",
       "      <td>1</td>\n",
       "      <td>80</td>\n",
       "      <td>0</td>\n",
       "      <td>2</td>\n",
       "      <td>3</td>\n",
       "      <td>3</td>\n",
       "      <td>2</td>\n",
       "      <td>2</td>\n",
       "      <td>2</td>\n",
       "      <td>24</td>\n",
       "    </tr>\n",
       "  </tbody>\n",
       "</table>\n",
       "<p>5 rows × 32 columns</p>\n",
       "</div>"
      ],
      "text/plain": [
       "   EmployeId  Age  Gender  MaritalStatus  Turnover  Travelling  \\\n",
       "0         63   29       1              0         0           2   \n",
       "1        723   23       1              2         0           0   \n",
       "2       1297   36       1              2         1           2   \n",
       "3         51   30       1              0         0           2   \n",
       "4       1498   29       1              2         1           2   \n",
       "\n",
       "                 Vertical  Qualifications    EducationField  \\\n",
       "0  Research & Development               1           Medical   \n",
       "1                   Sales               1     Life Sciences   \n",
       "2         Human Resources               4     Life Sciences   \n",
       "3  Research & Development               4           Medical   \n",
       "4                   Sales               3  Technical Degree   \n",
       "\n",
       "   EmployeSatisfaction  ...  RelationshipSatisfaction  Hours  \\\n",
       "0                    3  ...                         4     80   \n",
       "1                    2  ...                         4     80   \n",
       "2                    2  ...                         3     80   \n",
       "3                    3  ...                         2     80   \n",
       "4                    4  ...                         1     80   \n",
       "\n",
       "   StockOptionLevel TrainingTimesLastYear  Work&Life  YearsAtCompany  \\\n",
       "0                 1                     2          3               3   \n",
       "1                 0                     3          3               1   \n",
       "2                 0                     3          4               7   \n",
       "3                 3                     5          3              10   \n",
       "4                 0                     2          3               3   \n",
       "\n",
       "   YearsInCurrentRole  YearsSinceLastPromotion  YearsWithCurrentManager  \\\n",
       "0                   2                        2                        2   \n",
       "1                   0                        0                        0   \n",
       "2                   7                        0                        0   \n",
       "3                   6                        3                        9   \n",
       "4                   2                        2                        2   \n",
       "\n",
       "  DistanceFromHome  \n",
       "0                2  \n",
       "1                6  \n",
       "2               10  \n",
       "3               12  \n",
       "4               24  \n",
       "\n",
       "[5 rows x 32 columns]"
      ]
     },
     "execution_count": 14,
     "metadata": {},
     "output_type": "execute_result"
    }
   ],
   "source": [
    "isp2.head()"
   ]
  },
  {
   "cell_type": "code",
   "execution_count": 15,
   "id": "028a409e",
   "metadata": {},
   "outputs": [
    {
     "data": {
      "text/plain": [
       "count    1470.000000\n",
       "mean       37.065306\n",
       "std         9.522562\n",
       "min        18.000000\n",
       "25%        30.000000\n",
       "50%        36.000000\n",
       "75%        44.000000\n",
       "max        59.000000\n",
       "Name: Age, dtype: float64"
      ]
     },
     "execution_count": 15,
     "metadata": {},
     "output_type": "execute_result"
    }
   ],
   "source": [
    "isp2['Age'].describe()"
   ]
  },
  {
   "cell_type": "code",
   "execution_count": 16,
   "id": "35580bd4",
   "metadata": {},
   "outputs": [],
   "source": [
    "from scipy import stats"
   ]
  },
  {
   "cell_type": "code",
   "execution_count": 17,
   "id": "6ef89d67",
   "metadata": {},
   "outputs": [],
   "source": [
    "q1=30\n",
    "q3=44"
   ]
  },
  {
   "cell_type": "code",
   "execution_count": 18,
   "id": "aeef4f5a",
   "metadata": {},
   "outputs": [
    {
     "data": {
      "text/plain": [
       "14.0"
      ]
     },
     "execution_count": 18,
     "metadata": {},
     "output_type": "execute_result"
    }
   ],
   "source": [
    "iqr=stats.iqr(isp2['Age'])\n",
    "iqr"
   ]
  },
  {
   "cell_type": "code",
   "execution_count": 19,
   "id": "122b84bb",
   "metadata": {},
   "outputs": [
    {
     "name": "stdout",
     "output_type": "stream",
     "text": [
      "lower_limit 9.0\n",
      "upper_limit 65.0\n"
     ]
    }
   ],
   "source": [
    "lower_limit=q1-1.5*iqr\n",
    "upper_limit=q3+1.5*iqr\n",
    "print('lower_limit',lower_limit)\n",
    "print('upper_limit',upper_limit)"
   ]
  },
  {
   "cell_type": "code",
   "execution_count": 20,
   "id": "09732b1f",
   "metadata": {},
   "outputs": [
    {
     "data": {
      "text/plain": [
       "count    1470.000000\n",
       "mean        6.763265\n",
       "std         5.741043\n",
       "min         0.000000\n",
       "25%         3.000000\n",
       "50%         5.000000\n",
       "75%         9.000000\n",
       "max        32.000000\n",
       "Name: YearsAtCompany, dtype: float64"
      ]
     },
     "execution_count": 20,
     "metadata": {},
     "output_type": "execute_result"
    }
   ],
   "source": [
    "isp2['YearsAtCompany'].describe()"
   ]
  },
  {
   "cell_type": "code",
   "execution_count": 21,
   "id": "465f9adc",
   "metadata": {},
   "outputs": [],
   "source": [
    "q1=3\n",
    "q3=9"
   ]
  },
  {
   "cell_type": "code",
   "execution_count": 22,
   "id": "69fd3885",
   "metadata": {},
   "outputs": [
    {
     "data": {
      "text/plain": [
       "6.0"
      ]
     },
     "execution_count": 22,
     "metadata": {},
     "output_type": "execute_result"
    }
   ],
   "source": [
    "iqr=stats.iqr(isp2['YearsAtCompany'])\n",
    "iqr"
   ]
  },
  {
   "cell_type": "code",
   "execution_count": 23,
   "id": "b2cdd75c",
   "metadata": {},
   "outputs": [
    {
     "name": "stdout",
     "output_type": "stream",
     "text": [
      "lower_limit -6.0\n",
      "upper_limit 18.0\n"
     ]
    }
   ],
   "source": [
    "lower_limit=q1-1.5*iqr\n",
    "upper_limit=q3+1.5*iqr\n",
    "print('lower_limit',lower_limit)\n",
    "print('upper_limit',upper_limit)"
   ]
  },
  {
   "cell_type": "code",
   "execution_count": 24,
   "id": "f27c0aa4",
   "metadata": {},
   "outputs": [
    {
     "data": {
      "text/plain": [
       "count    1470.000000\n",
       "mean        9.278231\n",
       "std         8.157120\n",
       "min         1.000000\n",
       "25%         2.000000\n",
       "50%         7.000000\n",
       "75%        15.000000\n",
       "max        29.000000\n",
       "Name: DistanceFromHome, dtype: float64"
      ]
     },
     "execution_count": 24,
     "metadata": {},
     "output_type": "execute_result"
    }
   ],
   "source": [
    "isp2['DistanceFromHome'].describe()"
   ]
  },
  {
   "cell_type": "code",
   "execution_count": 25,
   "id": "56ccc949",
   "metadata": {},
   "outputs": [],
   "source": [
    "q1=2\n",
    "q3=15"
   ]
  },
  {
   "cell_type": "code",
   "execution_count": 26,
   "id": "2f403cc9",
   "metadata": {},
   "outputs": [
    {
     "data": {
      "text/plain": [
       "13.0"
      ]
     },
     "execution_count": 26,
     "metadata": {},
     "output_type": "execute_result"
    }
   ],
   "source": [
    "iqr=stats.iqr(isp2['DistanceFromHome'])\n",
    "iqr"
   ]
  },
  {
   "cell_type": "code",
   "execution_count": 27,
   "id": "0ba99956",
   "metadata": {},
   "outputs": [
    {
     "name": "stdout",
     "output_type": "stream",
     "text": [
      "lower_limit -17.5\n",
      "upper_limit 34.5\n"
     ]
    }
   ],
   "source": [
    "lower_limit=q1-1.5*iqr\n",
    "upper_limit=q3+1.5*iqr\n",
    "print('lower_limit',lower_limit)\n",
    "print('upper_limit',upper_limit)"
   ]
  },
  {
   "cell_type": "code",
   "execution_count": 28,
   "id": "0fde4c65",
   "metadata": {},
   "outputs": [
    {
     "name": "stderr",
     "output_type": "stream",
     "text": [
      "C:\\Users\\Neeraj Dheeman\\anaconda3\\lib\\site-packages\\seaborn\\_decorators.py:36: FutureWarning: Pass the following variables as keyword args: x, y. From version 0.12, the only valid positional argument will be `data`, and passing other arguments without an explicit keyword will result in an error or misinterpretation.\n",
      "  warnings.warn(\n"
     ]
    },
    {
     "data": {
      "text/plain": [
       "<AxesSubplot:xlabel='Age', ylabel='Turnover'>"
      ]
     },
     "execution_count": 28,
     "metadata": {},
     "output_type": "execute_result"
    },
    {
     "data": {
      "image/png": "[encoded data removed]",
      "text/plain": [
       "<Figure size 432x288 with 1 Axes>"
      ]
     },
     "metadata": {
      "needs_background": "light"
     },
     "output_type": "display_data"
    }
   ],
   "source": [
    "sns.lineplot( isp2['Age'], isp2['Turnover'])"
   ]
  },
  {
   "cell_type": "code",
   "execution_count": 29,
   "id": "c080f337",
   "metadata": {},
   "outputs": [
    {
     "name": "stderr",
     "output_type": "stream",
     "text": [
      "C:\\Users\\Neeraj Dheeman\\anaconda3\\lib\\site-packages\\seaborn\\_decorators.py:36: FutureWarning: Pass the following variables as keyword args: x, y. From version 0.12, the only valid positional argument will be `data`, and passing other arguments without an explicit keyword will result in an error or misinterpretation.\n",
      "  warnings.warn(\n"
     ]
    },
    {
     "data": {
      "text/plain": [
       "<AxesSubplot:xlabel='OverTime', ylabel='Turnover'>"
      ]
     },
     "execution_count": 29,
     "metadata": {},
     "output_type": "execute_result"
    },
    {
     "data": {
      "image/png": "[encoded data removed]",
      "text/plain": [
       "<Figure size 432x288 with 1 Axes>"
      ]
     },
     "metadata": {
      "needs_background": "light"
     },
     "output_type": "display_data"
    }
   ],
   "source": [
    "sns.lineplot( isp2['OverTime'], isp2['Turnover'])"
   ]
  },
  {
   "cell_type": "code",
   "execution_count": 30,
   "id": "711c559a",
   "metadata": {},
   "outputs": [
    {
     "name": "stderr",
     "output_type": "stream",
     "text": [
      "C:\\Users\\Neeraj Dheeman\\anaconda3\\lib\\site-packages\\seaborn\\_decorators.py:36: FutureWarning: Pass the following variables as keyword args: x, y. From version 0.12, the only valid positional argument will be `data`, and passing other arguments without an explicit keyword will result in an error or misinterpretation.\n",
      "  warnings.warn(\n"
     ]
    },
    {
     "data": {
      "text/plain": [
       "<AxesSubplot:xlabel='PercentSalaryHike', ylabel='Turnover'>"
      ]
     },
     "execution_count": 30,
     "metadata": {},
     "output_type": "execute_result"
    },
    {
     "data": {
      "image/png": "[encoded data removed]",
      "text/plain": [
       "<Figure size 432x288 with 1 Axes>"
      ]
     },
     "metadata": {
      "needs_background": "light"
     },
     "output_type": "display_data"
    }
   ],
   "source": [
    "sns.lineplot( isp2['PercentSalaryHike'], isp2['Turnover'])"
   ]
  },
  {
   "cell_type": "code",
   "execution_count": 31,
   "id": "4eea8d74",
   "metadata": {},
   "outputs": [
    {
     "name": "stderr",
     "output_type": "stream",
     "text": [
      "C:\\Users\\Neeraj Dheeman\\anaconda3\\lib\\site-packages\\seaborn\\_decorators.py:36: FutureWarning: Pass the following variables as keyword args: x, y. From version 0.12, the only valid positional argument will be `data`, and passing other arguments without an explicit keyword will result in an error or misinterpretation.\n",
      "  warnings.warn(\n"
     ]
    },
    {
     "data": {
      "text/plain": [
       "<AxesSubplot:xlabel='YearsAtCompany', ylabel='Turnover'>"
      ]
     },
     "execution_count": 31,
     "metadata": {},
     "output_type": "execute_result"
    },
    {
     "data": {
      "image/png": "[encoded data removed]",
      "text/plain": [
       "<Figure size 432x288 with 1 Axes>"
      ]
     },
     "metadata": {
      "needs_background": "light"
     },
     "output_type": "display_data"
    }
   ],
   "source": [
    "sns.lineplot( isp2['YearsAtCompany'], isp2['Turnover'])"
   ]
  },
  {
   "cell_type": "markdown",
   "id": "84254b74",
   "metadata": {},
   "source": [
    "# INSIGHTS"
   ]
  },
  {
   "cell_type": "code",
   "execution_count": 32,
   "id": "a4dc561f",
   "metadata": {},
   "outputs": [],
   "source": [
    "# employees in age group of 40 and 50 are most likely to opt for a turnover\n",
    "\n",
    "# turnover rate increases as overtime increases\n",
    "\n",
    "# maximum turnover rate is seen where salary hike is from 16% to 18% and minimum turnover is seen where salary hike is at 24%\n",
    "\n",
    "# employees who have completed 30 to 33 years at company are most likely to opt for a turnover and those who spent 24 to 30 \n",
    "# years are not likely to opt for a turnover"
   ]
  },
  {
   "cell_type": "code",
   "execution_count": null,
   "id": "394abcdc",
   "metadata": {},
   "outputs": [],
   "source": []
  }
 ],
 "metadata": {
  "kernelspec": {
   "display_name": "Python 3 (ipykernel)",
   "language": "python",
   "name": "python3"
  },
  "language_info": {
   "codemirror_mode": {
    "name": "ipython",
    "version": 3
   },
   "file_extension": ".py",
   "mimetype": "text/x-python",
   "name": "python",
   "nbconvert_exporter": "python",
   "pygments_lexer": "ipython3",
   "version": "3.9.7"
  }
 },
 "nbformat": 4,
 "nbformat_minor": 5
}
