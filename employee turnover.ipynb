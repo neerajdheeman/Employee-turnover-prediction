{
 "cells": [
  {
   "cell_type": "code",
   "execution_count": 1,
   "id": "511ee77e",
   "metadata": {},
   "outputs": [],
   "source": [
    "import pandas as pd\n",
    "import numpy as np\n",
    "import seaborn as sns\n",
    "from matplotlib import pyplot as plt\n",
    "from sklearn.metrics import confusion_matrix\n",
    "from sklearn.metrics import classification_report\n",
    "isp4=pd.read_csv(\"C:/Users/Neeraj Dheeman/Desktop/ideaspiceemployeeturnoverdatset.csv\")"
   ]
  },
  {
   "cell_type": "code",
   "execution_count": 2,
   "id": "d8164ca7",
   "metadata": {},
   "outputs": [],
   "source": [
    "from sklearn.preprocessing import LabelEncoder"
   ]
  },
  {
   "cell_type": "code",
   "execution_count": 3,
   "id": "95125c1a",
   "metadata": {},
   "outputs": [],
   "source": [
    "le=LabelEncoder()"
   ]
  },
  {
   "cell_type": "code",
   "execution_count": 4,
   "id": "c7e058c9",
   "metadata": {},
   "outputs": [],
   "source": [
    "isp4['Gender'] = le.fit_transform(isp4['Gender'])\n",
    "isp4['MaritalStatus'] = le.fit_transform(isp4['MaritalStatus'])\n",
    "isp4['Turnover'] = le.fit_transform(isp4['Turnover'])\n",
    "isp4['Travelling'] = le.fit_transform(isp4['Travelling'])\n",
    "isp4['OverTime'] = le.fit_transform(isp4['OverTime'])"
   ]
  },
  {
   "cell_type": "code",
   "execution_count": 5,
   "id": "5116009d",
   "metadata": {},
   "outputs": [],
   "source": [
    "isp4_numeric=isp4.select_dtypes(int)"
   ]
  },
  {
   "cell_type": "code",
   "execution_count": 6,
   "id": "1031af73",
   "metadata": {},
   "outputs": [
    {
     "data": {
      "text/html": [
       "<div>\n",
       "<style scoped>\n",
       "    .dataframe tbody tr th:only-of-type {\n",
       "        vertical-align: middle;\n",
       "    }\n",
       "\n",
       "    .dataframe tbody tr th {\n",
       "        vertical-align: top;\n",
       "    }\n",
       "\n",
       "    .dataframe thead th {\n",
       "        text-align: right;\n",
       "    }\n",
       "</style>\n",
       "<table border=\"1\" class=\"dataframe\">\n",
       "  <thead>\n",
       "    <tr style=\"text-align: right;\">\n",
       "      <th></th>\n",
       "      <th>EmployeId</th>\n",
       "      <th>Age</th>\n",
       "      <th>Gender</th>\n",
       "      <th>MaritalStatus</th>\n",
       "      <th>Turnover</th>\n",
       "      <th>Travelling</th>\n",
       "      <th>Qualifications</th>\n",
       "      <th>EmployeSatisfaction</th>\n",
       "      <th>JobEngagement</th>\n",
       "      <th>JobLevel</th>\n",
       "      <th>...</th>\n",
       "      <th>RelationshipSatisfaction</th>\n",
       "      <th>Hours</th>\n",
       "      <th>StockOptionLevel</th>\n",
       "      <th>TrainingTimesLastYear</th>\n",
       "      <th>Work&amp;Life</th>\n",
       "      <th>YearsAtCompany</th>\n",
       "      <th>YearsInCurrentRole</th>\n",
       "      <th>YearsSinceLastPromotion</th>\n",
       "      <th>YearsWithCurrentManager</th>\n",
       "      <th>DistanceFromHome</th>\n",
       "    </tr>\n",
       "  </thead>\n",
       "  <tbody>\n",
       "    <tr>\n",
       "      <th>0</th>\n",
       "      <td>63</td>\n",
       "      <td>29</td>\n",
       "      <td>1</td>\n",
       "      <td>0</td>\n",
       "      <td>0</td>\n",
       "      <td>2</td>\n",
       "      <td>1</td>\n",
       "      <td>3</td>\n",
       "      <td>3</td>\n",
       "      <td>1</td>\n",
       "      <td>...</td>\n",
       "      <td>4</td>\n",
       "      <td>80</td>\n",
       "      <td>1</td>\n",
       "      <td>2</td>\n",
       "      <td>3</td>\n",
       "      <td>3</td>\n",
       "      <td>2</td>\n",
       "      <td>2</td>\n",
       "      <td>2</td>\n",
       "      <td>2</td>\n",
       "    </tr>\n",
       "    <tr>\n",
       "      <th>1</th>\n",
       "      <td>723</td>\n",
       "      <td>23</td>\n",
       "      <td>1</td>\n",
       "      <td>2</td>\n",
       "      <td>0</td>\n",
       "      <td>0</td>\n",
       "      <td>1</td>\n",
       "      <td>2</td>\n",
       "      <td>3</td>\n",
       "      <td>1</td>\n",
       "      <td>...</td>\n",
       "      <td>4</td>\n",
       "      <td>80</td>\n",
       "      <td>0</td>\n",
       "      <td>3</td>\n",
       "      <td>3</td>\n",
       "      <td>1</td>\n",
       "      <td>0</td>\n",
       "      <td>0</td>\n",
       "      <td>0</td>\n",
       "      <td>6</td>\n",
       "    </tr>\n",
       "    <tr>\n",
       "      <th>2</th>\n",
       "      <td>1297</td>\n",
       "      <td>36</td>\n",
       "      <td>1</td>\n",
       "      <td>2</td>\n",
       "      <td>1</td>\n",
       "      <td>2</td>\n",
       "      <td>4</td>\n",
       "      <td>2</td>\n",
       "      <td>3</td>\n",
       "      <td>2</td>\n",
       "      <td>...</td>\n",
       "      <td>3</td>\n",
       "      <td>80</td>\n",
       "      <td>0</td>\n",
       "      <td>3</td>\n",
       "      <td>4</td>\n",
       "      <td>7</td>\n",
       "      <td>7</td>\n",
       "      <td>0</td>\n",
       "      <td>0</td>\n",
       "      <td>10</td>\n",
       "    </tr>\n",
       "    <tr>\n",
       "      <th>3</th>\n",
       "      <td>51</td>\n",
       "      <td>30</td>\n",
       "      <td>1</td>\n",
       "      <td>0</td>\n",
       "      <td>0</td>\n",
       "      <td>2</td>\n",
       "      <td>4</td>\n",
       "      <td>3</td>\n",
       "      <td>3</td>\n",
       "      <td>3</td>\n",
       "      <td>...</td>\n",
       "      <td>2</td>\n",
       "      <td>80</td>\n",
       "      <td>3</td>\n",
       "      <td>5</td>\n",
       "      <td>3</td>\n",
       "      <td>10</td>\n",
       "      <td>6</td>\n",
       "      <td>3</td>\n",
       "      <td>9</td>\n",
       "      <td>12</td>\n",
       "    </tr>\n",
       "    <tr>\n",
       "      <th>4</th>\n",
       "      <td>1498</td>\n",
       "      <td>29</td>\n",
       "      <td>1</td>\n",
       "      <td>2</td>\n",
       "      <td>1</td>\n",
       "      <td>2</td>\n",
       "      <td>3</td>\n",
       "      <td>4</td>\n",
       "      <td>3</td>\n",
       "      <td>1</td>\n",
       "      <td>...</td>\n",
       "      <td>1</td>\n",
       "      <td>80</td>\n",
       "      <td>0</td>\n",
       "      <td>2</td>\n",
       "      <td>3</td>\n",
       "      <td>3</td>\n",
       "      <td>2</td>\n",
       "      <td>2</td>\n",
       "      <td>2</td>\n",
       "      <td>24</td>\n",
       "    </tr>\n",
       "  </tbody>\n",
       "</table>\n",
       "<p>5 rows × 29 columns</p>\n",
       "</div>"
      ],
      "text/plain": [
       "   EmployeId  Age  Gender  MaritalStatus  Turnover  Travelling  \\\n",
       "0         63   29       1              0         0           2   \n",
       "1        723   23       1              2         0           0   \n",
       "2       1297   36       1              2         1           2   \n",
       "3         51   30       1              0         0           2   \n",
       "4       1498   29       1              2         1           2   \n",
       "\n",
       "   Qualifications  EmployeSatisfaction  JobEngagement  JobLevel  ...  \\\n",
       "0               1                    3              3         1  ...   \n",
       "1               1                    2              3         1  ...   \n",
       "2               4                    2              3         2  ...   \n",
       "3               4                    3              3         3  ...   \n",
       "4               3                    4              3         1  ...   \n",
       "\n",
       "   RelationshipSatisfaction  Hours  StockOptionLevel  TrainingTimesLastYear  \\\n",
       "0                         4     80                 1                      2   \n",
       "1                         4     80                 0                      3   \n",
       "2                         3     80                 0                      3   \n",
       "3                         2     80                 3                      5   \n",
       "4                         1     80                 0                      2   \n",
       "\n",
       "   Work&Life  YearsAtCompany  YearsInCurrentRole  YearsSinceLastPromotion  \\\n",
       "0          3               3                   2                        2   \n",
       "1          3               1                   0                        0   \n",
       "2          4               7                   7                        0   \n",
       "3          3              10                   6                        3   \n",
       "4          3               3                   2                        2   \n",
       "\n",
       "   YearsWithCurrentManager  DistanceFromHome  \n",
       "0                        2                 2  \n",
       "1                        0                 6  \n",
       "2                        0                10  \n",
       "3                        9                12  \n",
       "4                        2                24  \n",
       "\n",
       "[5 rows x 29 columns]"
      ]
     },
     "execution_count": 6,
     "metadata": {},
     "output_type": "execute_result"
    }
   ],
   "source": [
    "isp4_numeric.head()"
   ]
  },
  {
   "cell_type": "markdown",
   "id": "b3ceb290",
   "metadata": {},
   "source": [
    "# Finding columns haiving outliers"
   ]
  },
  {
   "cell_type": "code",
   "execution_count": 7,
   "id": "08cdd81b",
   "metadata": {},
   "outputs": [
    {
     "name": "stderr",
     "output_type": "stream",
     "text": [
      "C:\\Users\\Neeraj Dheeman\\anaconda3\\lib\\site-packages\\seaborn\\_decorators.py:36: FutureWarning: Pass the following variable as a keyword arg: x. From version 0.12, the only valid positional argument will be `data`, and passing other arguments without an explicit keyword will result in an error or misinterpretation.\n",
      "  warnings.warn(\n"
     ]
    },
    {
     "data": {
      "image/png": "[encoded data removed]",
      "text/plain": [
       "<Figure size 432x288 with 1 Axes>"
      ]
     },
     "metadata": {
      "needs_background": "light"
     },
     "output_type": "display_data"
    },
    {
     "name": "stderr",
     "output_type": "stream",
     "text": [
      "C:\\Users\\Neeraj Dheeman\\anaconda3\\lib\\site-packages\\seaborn\\_decorators.py:36: FutureWarning: Pass the following variable as a keyword arg: x. From version 0.12, the only valid positional argument will be `data`, and passing other arguments without an explicit keyword will result in an error or misinterpretation.\n",
      "  warnings.warn(\n"
     ]
    },
    {
     "data": {
      "image/png": "[encoded data removed]",
      "text/plain": [
       "<Figure size 432x288 with 1 Axes>"
      ]
     },
     "metadata": {
      "needs_background": "light"
     },
     "output_type": "display_data"
    },
    {
     "name": "stderr",
     "output_type": "stream",
     "text": [
      "C:\\Users\\Neeraj Dheeman\\anaconda3\\lib\\site-packages\\seaborn\\_decorators.py:36: FutureWarning: Pass the following variable as a keyword arg: x. From version 0.12, the only valid positional argument will be `data`, and passing other arguments without an explicit keyword will result in an error or misinterpretation.\n",
      "  warnings.warn(\n"
     ]
    },
    {
     "data": {
      "image/png": "[encoded data removed]",
      "text/plain": [
       "<Figure size 432x288 with 1 Axes>"
      ]
     },
     "metadata": {
      "needs_background": "light"
     },
     "output_type": "display_data"
    },
    {
     "name": "stderr",
     "output_type": "stream",
     "text": [
      "C:\\Users\\Neeraj Dheeman\\anaconda3\\lib\\site-packages\\seaborn\\_decorators.py:36: FutureWarning: Pass the following variable as a keyword arg: x. From version 0.12, the only valid positional argument will be `data`, and passing other arguments without an explicit keyword will result in an error or misinterpretation.\n",
      "  warnings.warn(\n"
     ]
    },
    {
     "data": {
      "image/png": "[encoded data removed]",
      "text/plain": [
       "<Figure size 432x288 with 1 Axes>"
      ]
     },
     "metadata": {
      "needs_background": "light"
     },
     "output_type": "display_data"
    },
    {
     "name": "stderr",
     "output_type": "stream",
     "text": [
      "C:\\Users\\Neeraj Dheeman\\anaconda3\\lib\\site-packages\\seaborn\\_decorators.py:36: FutureWarning: Pass the following variable as a keyword arg: x. From version 0.12, the only valid positional argument will be `data`, and passing other arguments without an explicit keyword will result in an error or misinterpretation.\n",
      "  warnings.warn(\n"
     ]
    },
    {
     "data": {
      "image/png": "[encoded data removed]",
      "text/plain": [
       "<Figure size 432x288 with 1 Axes>"
      ]
     },
     "metadata": {
      "needs_background": "light"
     },
     "output_type": "display_data"
    },
    {
     "name": "stderr",
     "output_type": "stream",
     "text": [
      "C:\\Users\\Neeraj Dheeman\\anaconda3\\lib\\site-packages\\seaborn\\_decorators.py:36: FutureWarning: Pass the following variable as a keyword arg: x. From version 0.12, the only valid positional argument will be `data`, and passing other arguments without an explicit keyword will result in an error or misinterpretation.\n",
      "  warnings.warn(\n"
     ]
    },
    {
     "data": {
      "image/png": "[encoded data removed]",
      "text/plain": [
       "<Figure size 432x288 with 1 Axes>"
      ]
     },
     "metadata": {
      "needs_background": "light"
     },
     "output_type": "display_data"
    },
    {
     "name": "stderr",
     "output_type": "stream",
     "text": [
      "C:\\Users\\Neeraj Dheeman\\anaconda3\\lib\\site-packages\\seaborn\\_decorators.py:36: FutureWarning: Pass the following variable as a keyword arg: x. From version 0.12, the only valid positional argument will be `data`, and passing other arguments without an explicit keyword will result in an error or misinterpretation.\n",
      "  warnings.warn(\n"
     ]
    },
    {
     "data": {
      "image/png": "[encoded data removed]",
      "text/plain": [
       "<Figure size 432x288 with 1 Axes>"
      ]
     },
     "metadata": {
      "needs_background": "light"
     },
     "output_type": "display_data"
    },
    {
     "name": "stderr",
     "output_type": "stream",
     "text": [
      "C:\\Users\\Neeraj Dheeman\\anaconda3\\lib\\site-packages\\seaborn\\_decorators.py:36: FutureWarning: Pass the following variable as a keyword arg: x. From version 0.12, the only valid positional argument will be `data`, and passing other arguments without an explicit keyword will result in an error or misinterpretation.\n",
      "  warnings.warn(\n"
     ]
    },
    {
     "data": {
      "image/png": "[encoded data removed]",
      "text/plain": [
       "<Figure size 432x288 with 1 Axes>"
      ]
     },
     "metadata": {
      "needs_background": "light"
     },
     "output_type": "display_data"
    },
    {
     "name": "stderr",
     "output_type": "stream",
     "text": [
      "C:\\Users\\Neeraj Dheeman\\anaconda3\\lib\\site-packages\\seaborn\\_decorators.py:36: FutureWarning: Pass the following variable as a keyword arg: x. From version 0.12, the only valid positional argument will be `data`, and passing other arguments without an explicit keyword will result in an error or misinterpretation.\n",
      "  warnings.warn(\n"
     ]
    },
    {
     "data": {
      "image/png": "[encoded data removed]",
      "text/plain": [
       "<Figure size 432x288 with 1 Axes>"
      ]
     },
     "metadata": {
      "needs_background": "light"
     },
     "output_type": "display_data"
    },
    {
     "name": "stderr",
     "output_type": "stream",
     "text": [
      "C:\\Users\\Neeraj Dheeman\\anaconda3\\lib\\site-packages\\seaborn\\_decorators.py:36: FutureWarning: Pass the following variable as a keyword arg: x. From version 0.12, the only valid positional argument will be `data`, and passing other arguments without an explicit keyword will result in an error or misinterpretation.\n",
      "  warnings.warn(\n"
     ]
    },
    {
     "data": {
      "image/png": "[encoded data removed]",
      "text/plain": [
       "<Figure size 432x288 with 1 Axes>"
      ]
     },
     "metadata": {
      "needs_background": "light"
     },
     "output_type": "display_data"
    },
    {
     "name": "stderr",
     "output_type": "stream",
     "text": [
      "C:\\Users\\Neeraj Dheeman\\anaconda3\\lib\\site-packages\\seaborn\\_decorators.py:36: FutureWarning: Pass the following variable as a keyword arg: x. From version 0.12, the only valid positional argument will be `data`, and passing other arguments without an explicit keyword will result in an error or misinterpretation.\n",
      "  warnings.warn(\n"
     ]
    },
    {
     "data": {
      "image/png": "[encoded data removed]",
      "text/plain": [
       "<Figure size 432x288 with 1 Axes>"
      ]
     },
     "metadata": {
      "needs_background": "light"
     },
     "output_type": "display_data"
    },
    {
     "name": "stderr",
     "output_type": "stream",
     "text": [
      "C:\\Users\\Neeraj Dheeman\\anaconda3\\lib\\site-packages\\seaborn\\_decorators.py:36: FutureWarning: Pass the following variable as a keyword arg: x. From version 0.12, the only valid positional argument will be `data`, and passing other arguments without an explicit keyword will result in an error or misinterpretation.\n",
      "  warnings.warn(\n"
     ]
    },
    {
     "data": {
      "image/png": "[encoded data removed]",
      "text/plain": [
       "<Figure size 432x288 with 1 Axes>"
      ]
     },
     "metadata": {
      "needs_background": "light"
     },
     "output_type": "display_data"
    },
    {
     "name": "stderr",
     "output_type": "stream",
     "text": [
      "C:\\Users\\Neeraj Dheeman\\anaconda3\\lib\\site-packages\\seaborn\\_decorators.py:36: FutureWarning: Pass the following variable as a keyword arg: x. From version 0.12, the only valid positional argument will be `data`, and passing other arguments without an explicit keyword will result in an error or misinterpretation.\n",
      "  warnings.warn(\n"
     ]
    },
    {
     "data": {
      "image/png": "[encoded data removed]",
      "text/plain": [
       "<Figure size 432x288 with 1 Axes>"
      ]
     },
     "metadata": {
      "needs_background": "light"
     },
     "output_type": "display_data"
    },
    {
     "name": "stderr",
     "output_type": "stream",
     "text": [
      "C:\\Users\\Neeraj Dheeman\\anaconda3\\lib\\site-packages\\seaborn\\_decorators.py:36: FutureWarning: Pass the following variable as a keyword arg: x. From version 0.12, the only valid positional argument will be `data`, and passing other arguments without an explicit keyword will result in an error or misinterpretation.\n",
      "  warnings.warn(\n"
     ]
    },
    {
     "data": {
      "image/png": "[encoded data removed]",
      "text/plain": [
       "<Figure size 432x288 with 1 Axes>"
      ]
     },
     "metadata": {
      "needs_background": "light"
     },
     "output_type": "display_data"
    },
    {
     "name": "stderr",
     "output_type": "stream",
     "text": [
      "C:\\Users\\Neeraj Dheeman\\anaconda3\\lib\\site-packages\\seaborn\\_decorators.py:36: FutureWarning: Pass the following variable as a keyword arg: x. From version 0.12, the only valid positional argument will be `data`, and passing other arguments without an explicit keyword will result in an error or misinterpretation.\n",
      "  warnings.warn(\n"
     ]
    },
    {
     "data": {
      "image/png": "[encoded data removed]",
      "text/plain": [
       "<Figure size 432x288 with 1 Axes>"
      ]
     },
     "metadata": {
      "needs_background": "light"
     },
     "output_type": "display_data"
    },
    {
     "name": "stderr",
     "output_type": "stream",
     "text": [
      "C:\\Users\\Neeraj Dheeman\\anaconda3\\lib\\site-packages\\seaborn\\_decorators.py:36: FutureWarning: Pass the following variable as a keyword arg: x. From version 0.12, the only valid positional argument will be `data`, and passing other arguments without an explicit keyword will result in an error or misinterpretation.\n",
      "  warnings.warn(\n"
     ]
    },
    {
     "data": {
      "image/png": "[encoded data removed]",
      "text/plain": [
       "<Figure size 432x288 with 1 Axes>"
      ]
     },
     "metadata": {
      "needs_background": "light"
     },
     "output_type": "display_data"
    },
    {
     "name": "stderr",
     "output_type": "stream",
     "text": [
      "C:\\Users\\Neeraj Dheeman\\anaconda3\\lib\\site-packages\\seaborn\\_decorators.py:36: FutureWarning: Pass the following variable as a keyword arg: x. From version 0.12, the only valid positional argument will be `data`, and passing other arguments without an explicit keyword will result in an error or misinterpretation.\n",
      "  warnings.warn(\n"
     ]
    },
    {
     "data": {
      "image/png": "[encoded data removed]",
      "text/plain": [
       "<Figure size 432x288 with 1 Axes>"
      ]
     },
     "metadata": {
      "needs_background": "light"
     },
     "output_type": "display_data"
    },
    {
     "name": "stderr",
     "output_type": "stream",
     "text": [
      "C:\\Users\\Neeraj Dheeman\\anaconda3\\lib\\site-packages\\seaborn\\_decorators.py:36: FutureWarning: Pass the following variable as a keyword arg: x. From version 0.12, the only valid positional argument will be `data`, and passing other arguments without an explicit keyword will result in an error or misinterpretation.\n",
      "  warnings.warn(\n"
     ]
    },
    {
     "data": {
      "image/png": "[encoded data removed]",
      "text/plain": [
       "<Figure size 432x288 with 1 Axes>"
      ]
     },
     "metadata": {
      "needs_background": "light"
     },
     "output_type": "display_data"
    },
    {
     "name": "stderr",
     "output_type": "stream",
     "text": [
      "C:\\Users\\Neeraj Dheeman\\anaconda3\\lib\\site-packages\\seaborn\\_decorators.py:36: FutureWarning: Pass the following variable as a keyword arg: x. From version 0.12, the only valid positional argument will be `data`, and passing other arguments without an explicit keyword will result in an error or misinterpretation.\n",
      "  warnings.warn(\n"
     ]
    },
    {
     "data": {
      "image/png": "[encoded data removed]",
      "text/plain": [
       "<Figure size 432x288 with 1 Axes>"
      ]
     },
     "metadata": {
      "needs_background": "light"
     },
     "output_type": "display_data"
    },
    {
     "name": "stderr",
     "output_type": "stream",
     "text": [
      "C:\\Users\\Neeraj Dheeman\\anaconda3\\lib\\site-packages\\seaborn\\_decorators.py:36: FutureWarning: Pass the following variable as a keyword arg: x. From version 0.12, the only valid positional argument will be `data`, and passing other arguments without an explicit keyword will result in an error or misinterpretation.\n",
      "  warnings.warn(\n"
     ]
    },
    {
     "data": {
      "image/png": "[encoded data removed]",
      "text/plain": [
       "<Figure size 432x288 with 1 Axes>"
      ]
     },
     "metadata": {
      "needs_background": "light"
     },
     "output_type": "display_data"
    },
    {
     "name": "stderr",
     "output_type": "stream",
     "text": [
      "C:\\Users\\Neeraj Dheeman\\anaconda3\\lib\\site-packages\\seaborn\\_decorators.py:36: FutureWarning: Pass the following variable as a keyword arg: x. From version 0.12, the only valid positional argument will be `data`, and passing other arguments without an explicit keyword will result in an error or misinterpretation.\n",
      "  warnings.warn(\n"
     ]
    },
    {
     "data": {
      "image/png": "[encoded data removed]",
      "text/plain": [
       "<Figure size 432x288 with 1 Axes>"
      ]
     },
     "metadata": {
      "needs_background": "light"
     },
     "output_type": "display_data"
    },
    {
     "name": "stderr",
     "output_type": "stream",
     "text": [
      "C:\\Users\\Neeraj Dheeman\\anaconda3\\lib\\site-packages\\seaborn\\_decorators.py:36: FutureWarning: Pass the following variable as a keyword arg: x. From version 0.12, the only valid positional argument will be `data`, and passing other arguments without an explicit keyword will result in an error or misinterpretation.\n",
      "  warnings.warn(\n"
     ]
    },
    {
     "data": {
      "image/png": "[encoded data removed]",
      "text/plain": [
       "<Figure size 432x288 with 1 Axes>"
      ]
     },
     "metadata": {
      "needs_background": "light"
     },
     "output_type": "display_data"
    },
    {
     "name": "stderr",
     "output_type": "stream",
     "text": [
      "C:\\Users\\Neeraj Dheeman\\anaconda3\\lib\\site-packages\\seaborn\\_decorators.py:36: FutureWarning: Pass the following variable as a keyword arg: x. From version 0.12, the only valid positional argument will be `data`, and passing other arguments without an explicit keyword will result in an error or misinterpretation.\n",
      "  warnings.warn(\n"
     ]
    },
    {
     "data": {
      "image/png": "[encoded data removed]",
      "text/plain": [
       "<Figure size 432x288 with 1 Axes>"
      ]
     },
     "metadata": {
      "needs_background": "light"
     },
     "output_type": "display_data"
    },
    {
     "name": "stderr",
     "output_type": "stream",
     "text": [
      "C:\\Users\\Neeraj Dheeman\\anaconda3\\lib\\site-packages\\seaborn\\_decorators.py:36: FutureWarning: Pass the following variable as a keyword arg: x. From version 0.12, the only valid positional argument will be `data`, and passing other arguments without an explicit keyword will result in an error or misinterpretation.\n",
      "  warnings.warn(\n"
     ]
    },
    {
     "data": {
      "image/png": "[encoded data removed]",
      "text/plain": [
       "<Figure size 432x288 with 1 Axes>"
      ]
     },
     "metadata": {
      "needs_background": "light"
     },
     "output_type": "display_data"
    },
    {
     "name": "stderr",
     "output_type": "stream",
     "text": [
      "C:\\Users\\Neeraj Dheeman\\anaconda3\\lib\\site-packages\\seaborn\\_decorators.py:36: FutureWarning: Pass the following variable as a keyword arg: x. From version 0.12, the only valid positional argument will be `data`, and passing other arguments without an explicit keyword will result in an error or misinterpretation.\n",
      "  warnings.warn(\n"
     ]
    },
    {
     "data": {
      "image/png": "[encoded data removed]",
      "text/plain": [
       "<Figure size 432x288 with 1 Axes>"
      ]
     },
     "metadata": {
      "needs_background": "light"
     },
     "output_type": "display_data"
    },
    {
     "name": "stderr",
     "output_type": "stream",
     "text": [
      "C:\\Users\\Neeraj Dheeman\\anaconda3\\lib\\site-packages\\seaborn\\_decorators.py:36: FutureWarning: Pass the following variable as a keyword arg: x. From version 0.12, the only valid positional argument will be `data`, and passing other arguments without an explicit keyword will result in an error or misinterpretation.\n",
      "  warnings.warn(\n"
     ]
    },
    {
     "data": {
      "image/png": "[encoded data removed]",
      "text/plain": [
       "<Figure size 432x288 with 1 Axes>"
      ]
     },
     "metadata": {
      "needs_background": "light"
     },
     "output_type": "display_data"
    },
    {
     "name": "stderr",
     "output_type": "stream",
     "text": [
      "C:\\Users\\Neeraj Dheeman\\anaconda3\\lib\\site-packages\\seaborn\\_decorators.py:36: FutureWarning: Pass the following variable as a keyword arg: x. From version 0.12, the only valid positional argument will be `data`, and passing other arguments without an explicit keyword will result in an error or misinterpretation.\n",
      "  warnings.warn(\n"
     ]
    },
    {
     "data": {
      "image/png": "[encoded data removed]",
      "text/plain": [
       "<Figure size 432x288 with 1 Axes>"
      ]
     },
     "metadata": {
      "needs_background": "light"
     },
     "output_type": "display_data"
    },
    {
     "name": "stderr",
     "output_type": "stream",
     "text": [
      "C:\\Users\\Neeraj Dheeman\\anaconda3\\lib\\site-packages\\seaborn\\_decorators.py:36: FutureWarning: Pass the following variable as a keyword arg: x. From version 0.12, the only valid positional argument will be `data`, and passing other arguments without an explicit keyword will result in an error or misinterpretation.\n",
      "  warnings.warn(\n"
     ]
    },
    {
     "data": {
      "image/png": "[encoded data removed]",
      "text/plain": [
       "<Figure size 432x288 with 1 Axes>"
      ]
     },
     "metadata": {
      "needs_background": "light"
     },
     "output_type": "display_data"
    },
    {
     "name": "stderr",
     "output_type": "stream",
     "text": [
      "C:\\Users\\Neeraj Dheeman\\anaconda3\\lib\\site-packages\\seaborn\\_decorators.py:36: FutureWarning: Pass the following variable as a keyword arg: x. From version 0.12, the only valid positional argument will be `data`, and passing other arguments without an explicit keyword will result in an error or misinterpretation.\n",
      "  warnings.warn(\n"
     ]
    },
    {
     "data": {
      "image/png": "[encoded data removed]",
      "text/plain": [
       "<Figure size 432x288 with 1 Axes>"
      ]
     },
     "metadata": {
      "needs_background": "light"
     },
     "output_type": "display_data"
    }
   ],
   "source": [
    "# cleaning the dataset from outliers\n",
    "for i in isp4_numeric:\n",
    "    sns.boxplot(isp4_numeric[i])\n",
    "    plt.show()"
   ]
  },
  {
   "cell_type": "markdown",
   "id": "64df0be5",
   "metadata": {},
   "source": [
    "# Removing outlier"
   ]
  },
  {
   "cell_type": "code",
   "execution_count": 8,
   "id": "9737e91f",
   "metadata": {},
   "outputs": [],
   "source": [
    "#  we find that \n",
    "# monthly billing, \n",
    "# training times last year,\n",
    "# years at company,\n",
    "# year since lst promotion has outliers\n",
    "# now we will remove them"
   ]
  },
  {
   "cell_type": "code",
   "execution_count": 9,
   "id": "18985742",
   "metadata": {},
   "outputs": [
    {
     "name": "stdout",
     "output_type": "stream",
     "text": [
      "IQR is 5919.25\n",
      "low_limit is -5959.625\n",
      "up_limit is 17717.375\n"
     ]
    }
   ],
   "source": [
    "# removing outlier from monthly billing\n",
    "Q1 = isp4_numeric['MonthlyBilling'].quantile(0.25)\n",
    "Q3 = isp4_numeric['MonthlyBilling'].quantile(0.75)\n",
    "\n",
    "Q1,Q3\n",
    "IQR=Q3-Q1\n",
    "print('IQR is',IQR)\n",
    "\n",
    "low_lim = Q1 - 1.5 * IQR\n",
    "up_lim = Q3 + 1.5 * IQR\n",
    "print('low_limit is', low_lim)\n",
    "print('up_limit is', up_lim)\n",
    "\n",
    "# outlier =[]\n",
    "# for x in isp4_numeric['MonthlyBilling']:\n",
    "#     if ((x> up_lim) or (x<low_lim)):\n",
    "#         outlier.append(x)\n",
    "# print('outlier in the dataset is', outlier)"
   ]
  },
  {
   "cell_type": "code",
   "execution_count": 10,
   "id": "42a31aba",
   "metadata": {},
   "outputs": [],
   "source": [
    "isp4_numeric=isp4_numeric[(isp4_numeric['MonthlyBilling'] < up_lim) & (isp4_numeric['MonthlyBilling'] > low_lim)]"
   ]
  },
  {
   "cell_type": "code",
   "execution_count": 11,
   "id": "20620e60",
   "metadata": {},
   "outputs": [
    {
     "name": "stdout",
     "output_type": "stream",
     "text": [
      "IQR is 1.0\n",
      "low_limit is 0.5\n",
      "up_limit is 4.5\n"
     ]
    }
   ],
   "source": [
    "# removing outlier from TrainingTimesLastYear\n",
    "Q1 = isp4_numeric['TrainingTimesLastYear'].quantile(0.25)\n",
    "Q3 = isp4_numeric['TrainingTimesLastYear'].quantile(0.75)\n",
    "\n",
    "Q1,Q3\n",
    "IQR=Q3-Q1\n",
    "print('IQR is',IQR)\n",
    "\n",
    "low_lim = Q1 - 1.5 * IQR\n",
    "up_lim = Q3 + 1.5 * IQR\n",
    "print('low_limit is', low_lim)\n",
    "print('up_limit is', up_lim)\n",
    "\n",
    "# outlier =[]\n",
    "# for x in isp4_numeric['MonthlyBilling']:\n",
    "#     if ((x> up_lim) or (x<low_lim)):\n",
    "#         outlier.append(x)\n",
    "# print('outlier in the dataset is', outlier)"
   ]
  },
  {
   "cell_type": "code",
   "execution_count": 12,
   "id": "0b204c1a",
   "metadata": {},
   "outputs": [],
   "source": [
    "isp4_numeric=isp4_numeric[(isp4_numeric['TrainingTimesLastYear'] < up_lim) & (isp4_numeric['TrainingTimesLastYear'] > low_lim)]"
   ]
  },
  {
   "cell_type": "code",
   "execution_count": 13,
   "id": "7c8dd7ef",
   "metadata": {},
   "outputs": [
    {
     "name": "stdout",
     "output_type": "stream",
     "text": [
      "IQR is 6.0\n",
      "low_limit is -6.0\n",
      "up_limit is 18.0\n"
     ]
    }
   ],
   "source": [
    "# removing outlier from years at company\n",
    "Q1 = isp4_numeric['YearsAtCompany'].quantile(0.25)\n",
    "Q3 = isp4_numeric['YearsAtCompany'].quantile(0.75)\n",
    "\n",
    "Q1,Q3\n",
    "IQR=Q3-Q1\n",
    "print('IQR is',IQR)\n",
    "\n",
    "low_lim = Q1 - 1.5 * IQR\n",
    "up_lim = Q3 + 1.5 * IQR\n",
    "print('low_limit is', low_lim)\n",
    "print('up_limit is', up_lim)\n",
    "\n",
    "\n",
    "# outlier =[]\n",
    "# for x in new_df_numric['YearsAtCompany']:\n",
    "#     if ((x> up_lim) or (x<low_lim)):\n",
    "#         outlier.append(x)\n",
    "# print('outlier in the dataset is', outlier)"
   ]
  },
  {
   "cell_type": "code",
   "execution_count": 14,
   "id": "177b6c4f",
   "metadata": {},
   "outputs": [],
   "source": [
    "isp4_numeric=isp4_numeric[(isp4_numeric['YearsAtCompany'] < up_lim) & (isp4_numeric['YearsAtCompany'] > low_lim)]"
   ]
  },
  {
   "cell_type": "code",
   "execution_count": 15,
   "id": "06aa670b",
   "metadata": {},
   "outputs": [
    {
     "name": "stdout",
     "output_type": "stream",
     "text": [
      "IQR is 2.0\n",
      "low_limit is -3.0\n",
      "up_limit is 5.0\n"
     ]
    }
   ],
   "source": [
    "# removing outlier from years since last promotion\n",
    "Q1 = isp4_numeric['YearsSinceLastPromotion'].quantile(0.25)\n",
    "Q3 = isp4_numeric['YearsSinceLastPromotion'].quantile(0.75)\n",
    "\n",
    "Q1,Q3\n",
    "IQR=Q3-Q1\n",
    "print('IQR is',IQR)\n",
    "\n",
    "low_lim = Q1 - 1.5 * IQR\n",
    "up_lim = Q3 + 1.5 * IQR\n",
    "print('low_limit is', low_lim)\n",
    "print('up_limit is', up_lim)\n",
    "\n",
    "\n",
    "# outlier =[]\n",
    "# for x in new_df_numric['YearsSinceLastPromotion']:\n",
    "#     if ((x> up_lim) or (x<low_lim)):\n",
    "#         outlier.append(x)\n",
    "# print('outlier in the dataset is', outlier)"
   ]
  },
  {
   "cell_type": "code",
   "execution_count": 16,
   "id": "51470d00",
   "metadata": {},
   "outputs": [],
   "source": [
    "isp4_numeric=isp4_numeric[(isp4_numeric['YearsSinceLastPromotion'] < up_lim) & (isp4_numeric['YearsSinceLastPromotion'] > low_lim)]"
   ]
  },
  {
   "cell_type": "code",
   "execution_count": 17,
   "id": "dc1d6c3c",
   "metadata": {},
   "outputs": [
    {
     "name": "stdout",
     "output_type": "stream",
     "text": [
      "IQR is 3.0\n",
      "low_limit is -3.5\n",
      "up_limit is 8.5\n"
     ]
    }
   ],
   "source": [
    "Q1 = isp4_numeric['YearsWithCurrentManager'].quantile(0.25)\n",
    "Q3 = isp4_numeric['YearsWithCurrentManager'].quantile(0.75)\n",
    "\n",
    "Q1,Q3\n",
    "IQR=Q3-Q1\n",
    "print('IQR is',IQR)\n",
    "\n",
    "low_lim = Q1 - 1.5 * IQR\n",
    "up_lim = Q3 + 1.5 * IQR\n",
    "print('low_limit is', low_lim)\n",
    "print('up_limit is', up_lim)\n",
    "\n",
    "# outliers = []\n",
    "# for i in isp4_numeric['YearsWithCurrentManager']:\n",
    "#     if ((i < low_lim) or (i > up_lim)):\n",
    "#         outliers.append(i)\n",
    "# print(outliers)"
   ]
  },
  {
   "cell_type": "code",
   "execution_count": 18,
   "id": "977d2538",
   "metadata": {},
   "outputs": [
    {
     "data": {
      "text/plain": [
       "(868, 29)"
      ]
     },
     "execution_count": 18,
     "metadata": {},
     "output_type": "execute_result"
    }
   ],
   "source": [
    "isp4_numeric = isp4_numeric[(isp4_numeric['YearsWithCurrentManager'] < up_lim) & (isp4_numeric['YearsWithCurrentManager'] > low_lim)]\n",
    "isp4_numeric.shape"
   ]
  },
  {
   "cell_type": "markdown",
   "id": "c71ccc32",
   "metadata": {},
   "source": [
    "# Resetting index"
   ]
  },
  {
   "cell_type": "code",
   "execution_count": 19,
   "id": "307fe6aa",
   "metadata": {},
   "outputs": [],
   "source": [
    "isp4_numeric=isp4_numeric.reset_index()"
   ]
  },
  {
   "cell_type": "code",
   "execution_count": 20,
   "id": "53770376",
   "metadata": {},
   "outputs": [],
   "source": [
    "isp4_numeric.drop(['index'],axis=1,inplace=True)"
   ]
  },
  {
   "cell_type": "code",
   "execution_count": 21,
   "id": "83c452b8",
   "metadata": {},
   "outputs": [],
   "source": [
    "isp4_numeric.drop(['Gender','Hours'],axis=1,inplace=True)"
   ]
  },
  {
   "cell_type": "code",
   "execution_count": 22,
   "id": "30c2ff97",
   "metadata": {},
   "outputs": [
    {
     "data": {
      "text/plain": [
       "(868, 27)"
      ]
     },
     "execution_count": 22,
     "metadata": {},
     "output_type": "execute_result"
    }
   ],
   "source": [
    "isp4_numeric.shape"
   ]
  },
  {
   "cell_type": "markdown",
   "id": "2efb6249",
   "metadata": {},
   "source": [
    "# Splitting the dataset into train and test"
   ]
  },
  {
   "cell_type": "code",
   "execution_count": 23,
   "id": "d01f9584",
   "metadata": {},
   "outputs": [],
   "source": [
    "from sklearn.model_selection import train_test_split"
   ]
  },
  {
   "cell_type": "code",
   "execution_count": 24,
   "id": "8687692d",
   "metadata": {},
   "outputs": [
    {
     "data": {
      "text/plain": [
       "Index(['EmployeId', 'Age', 'MaritalStatus', 'Turnover', 'Travelling',\n",
       "       'Qualifications', 'EmployeSatisfaction', 'JobEngagement', 'JobLevel',\n",
       "       'JobSatisfaction', 'DailyBilling', 'HourBilling', 'MonthlyBilling',\n",
       "       'MonthlyRate', 'Work Experience', 'OverTime', 'PercentSalaryHike',\n",
       "       'Last Rating', 'RelationshipSatisfaction', 'StockOptionLevel',\n",
       "       'TrainingTimesLastYear', 'Work&Life', 'YearsAtCompany',\n",
       "       'YearsInCurrentRole', 'YearsSinceLastPromotion',\n",
       "       'YearsWithCurrentManager', 'DistanceFromHome'],\n",
       "      dtype='object')"
      ]
     },
     "execution_count": 24,
     "metadata": {},
     "output_type": "execute_result"
    }
   ],
   "source": [
    "isp4_numeric.columns"
   ]
  },
  {
   "cell_type": "code",
   "execution_count": 25,
   "id": "a3252e8d",
   "metadata": {},
   "outputs": [],
   "source": [
    "# x=isp4_numeric[['EmployeId', 'Age', 'Gender', 'MaritalStatus', 'Travelling',\n",
    "#        'Qualifications', 'EmployeSatisfaction', 'JobEngagement', 'JobLevel',\n",
    "#        'JobSatisfaction', 'DailyBilling', 'HourBilling', 'MonthlyBilling',\n",
    "#        'MonthlyRate', 'Work Experience', 'OverTime', 'PercentSalaryHike',\n",
    "#        'Last Rating', 'RelationshipSatisfaction', 'Hours', 'StockOptionLevel',\n",
    "#        'TrainingTimesLastYear', 'Work&Life', 'YearsAtCompany',\n",
    "#        'YearsInCurrentRole', 'YearsSinceLastPromotion',\n",
    "#        'YearsWithCurrentManager', 'DistanceFromHome']].values"
   ]
  },
  {
   "cell_type": "code",
   "execution_count": 26,
   "id": "a29aa839",
   "metadata": {},
   "outputs": [],
   "source": [
    "x = isp4_numeric.drop(['Turnover'],axis=1)\n",
    "y = isp4_numeric['Turnover']"
   ]
  },
  {
   "cell_type": "code",
   "execution_count": 27,
   "id": "5b28821c",
   "metadata": {},
   "outputs": [],
   "source": [
    "xtrain , xtest , ytrain , ytest = train_test_split(x,y,test_size = 0.3, random_state = 42)"
   ]
  },
  {
   "cell_type": "markdown",
   "id": "4d3338bc",
   "metadata": {},
   "source": [
    "# Trying three different ensemble models"
   ]
  },
  {
   "cell_type": "markdown",
   "id": "03a9ecbd",
   "metadata": {},
   "source": [
    "# 1. Making a Random Forest Classifier Model"
   ]
  },
  {
   "cell_type": "code",
   "execution_count": 28,
   "id": "40dcea5f",
   "metadata": {},
   "outputs": [],
   "source": [
    "from sklearn.ensemble import RandomForestClassifier"
   ]
  },
  {
   "cell_type": "code",
   "execution_count": 29,
   "id": "6a774410",
   "metadata": {},
   "outputs": [],
   "source": [
    "rf_model = RandomForestClassifier(n_estimators=50)"
   ]
  },
  {
   "cell_type": "code",
   "execution_count": 30,
   "id": "2b47efca",
   "metadata": {},
   "outputs": [
    {
     "data": {
      "text/plain": [
       "RandomForestClassifier(n_estimators=50)"
      ]
     },
     "execution_count": 30,
     "metadata": {},
     "output_type": "execute_result"
    }
   ],
   "source": [
    "rf_model.fit(xtrain, ytrain)"
   ]
  },
  {
   "cell_type": "code",
   "execution_count": 31,
   "id": "e43b8fc1",
   "metadata": {},
   "outputs": [
    {
     "data": {
      "text/plain": [
       "0.8275862068965517"
      ]
     },
     "execution_count": 31,
     "metadata": {},
     "output_type": "execute_result"
    }
   ],
   "source": [
    "rf_model.score(xtest,ytest)"
   ]
  },
  {
   "cell_type": "markdown",
   "id": "4c5928bf",
   "metadata": {},
   "source": [
    "# Evaluation using Accuracy"
   ]
  },
  {
   "cell_type": "code",
   "execution_count": 32,
   "id": "932d2479",
   "metadata": {},
   "outputs": [],
   "source": [
    "from sklearn.metrics import accuracy_score"
   ]
  },
  {
   "cell_type": "code",
   "execution_count": 33,
   "id": "22f900e9",
   "metadata": {},
   "outputs": [],
   "source": [
    "pred=rf_model.predict(xtest)"
   ]
  },
  {
   "cell_type": "code",
   "execution_count": 34,
   "id": "1f4a54e9",
   "metadata": {},
   "outputs": [
    {
     "data": {
      "text/plain": [
       "0.8275862068965517"
      ]
     },
     "execution_count": 34,
     "metadata": {},
     "output_type": "execute_result"
    }
   ],
   "source": [
    "score = accuracy_score(ytest,pred)\n",
    "score"
   ]
  },
  {
   "cell_type": "markdown",
   "id": "fb10f920",
   "metadata": {},
   "source": [
    "# 2. Making an Extra Tree Classifier Model"
   ]
  },
  {
   "cell_type": "code",
   "execution_count": 35,
   "id": "3f4c3e49",
   "metadata": {},
   "outputs": [],
   "source": [
    "from sklearn.ensemble import ExtraTreesClassifier"
   ]
  },
  {
   "cell_type": "code",
   "execution_count": 36,
   "id": "4e206399",
   "metadata": {},
   "outputs": [],
   "source": [
    "etc=ExtraTreesClassifier(n_estimators=50)"
   ]
  },
  {
   "cell_type": "code",
   "execution_count": 37,
   "id": "06e2be87",
   "metadata": {},
   "outputs": [
    {
     "data": {
      "text/plain": [
       "ExtraTreesClassifier(n_estimators=50)"
      ]
     },
     "execution_count": 37,
     "metadata": {},
     "output_type": "execute_result"
    }
   ],
   "source": [
    "etc.fit(xtrain,ytrain)"
   ]
  },
  {
   "cell_type": "code",
   "execution_count": 38,
   "id": "80c8df76",
   "metadata": {},
   "outputs": [
    {
     "data": {
      "text/plain": [
       "0.8352490421455939"
      ]
     },
     "execution_count": 38,
     "metadata": {},
     "output_type": "execute_result"
    }
   ],
   "source": [
    "etc.score(xtest,ytest)"
   ]
  },
  {
   "cell_type": "markdown",
   "id": "783ceb1f",
   "metadata": {},
   "source": [
    "# Evaluation using Accuracy"
   ]
  },
  {
   "cell_type": "code",
   "execution_count": 39,
   "id": "2497fc7b",
   "metadata": {},
   "outputs": [],
   "source": [
    "pred=etc.predict(xtest)"
   ]
  },
  {
   "cell_type": "code",
   "execution_count": 40,
   "id": "ff04f2a5",
   "metadata": {},
   "outputs": [
    {
     "data": {
      "text/plain": [
       "0.8352490421455939"
      ]
     },
     "execution_count": 40,
     "metadata": {},
     "output_type": "execute_result"
    }
   ],
   "source": [
    "score = accuracy_score(ytest,pred)\n",
    "score"
   ]
  },
  {
   "cell_type": "markdown",
   "id": "279d2b69",
   "metadata": {},
   "source": [
    "# 3. Making a Gradient Boosting Classifer Model"
   ]
  },
  {
   "cell_type": "code",
   "execution_count": 41,
   "id": "18548b5e",
   "metadata": {},
   "outputs": [],
   "source": [
    "from sklearn.ensemble import GradientBoostingClassifier"
   ]
  },
  {
   "cell_type": "code",
   "execution_count": 42,
   "id": "1cb56756",
   "metadata": {},
   "outputs": [],
   "source": [
    "gbc = GradientBoostingClassifier()"
   ]
  },
  {
   "cell_type": "code",
   "execution_count": 43,
   "id": "a2ada06e",
   "metadata": {},
   "outputs": [
    {
     "data": {
      "text/plain": [
       "GradientBoostingClassifier()"
      ]
     },
     "execution_count": 43,
     "metadata": {},
     "output_type": "execute_result"
    }
   ],
   "source": [
    "gbc.fit(xtrain,ytrain)"
   ]
  },
  {
   "cell_type": "code",
   "execution_count": 44,
   "id": "d2ce7740",
   "metadata": {},
   "outputs": [
    {
     "data": {
      "text/plain": [
       "0.8007662835249042"
      ]
     },
     "execution_count": 44,
     "metadata": {},
     "output_type": "execute_result"
    }
   ],
   "source": [
    "gbc.score(xtest,ytest)"
   ]
  },
  {
   "cell_type": "markdown",
   "id": "bae20e10",
   "metadata": {},
   "source": [
    "# Evaluation using Accuracy"
   ]
  },
  {
   "cell_type": "code",
   "execution_count": 45,
   "id": "63b410b5",
   "metadata": {},
   "outputs": [],
   "source": [
    "pred=gbc.predict(xtest)"
   ]
  },
  {
   "cell_type": "code",
   "execution_count": 46,
   "id": "f30386b9",
   "metadata": {},
   "outputs": [
    {
     "data": {
      "text/plain": [
       "0.8007662835249042"
      ]
     },
     "execution_count": 46,
     "metadata": {},
     "output_type": "execute_result"
    }
   ],
   "source": [
    "score = accuracy_score(ytest,pred)\n",
    "score"
   ]
  },
  {
   "cell_type": "markdown",
   "id": "c4ab4ba6",
   "metadata": {},
   "source": [
    "# Evaluation using Confusion Matrix"
   ]
  },
  {
   "cell_type": "code",
   "execution_count": 47,
   "id": "4a8ca07f",
   "metadata": {},
   "outputs": [
    {
     "data": {
      "text/plain": [
       "array([[200,  16],\n",
       "       [ 36,   9]], dtype=int64)"
      ]
     },
     "execution_count": 47,
     "metadata": {},
     "output_type": "execute_result"
    }
   ],
   "source": [
    "confusion_matrix(ytest,pred)"
   ]
  },
  {
   "cell_type": "code",
   "execution_count": 48,
   "id": "370df6a2",
   "metadata": {},
   "outputs": [],
   "source": [
    "# confusion matrix metrics\n",
    "matrix=classification_report(ytest,pred)"
   ]
  },
  {
   "cell_type": "code",
   "execution_count": 49,
   "id": "9c22e777",
   "metadata": {},
   "outputs": [
    {
     "name": "stdout",
     "output_type": "stream",
     "text": [
      "              precision    recall  f1-score   support\n",
      "\n",
      "           0       0.85      0.93      0.88       216\n",
      "           1       0.36      0.20      0.26        45\n",
      "\n",
      "    accuracy                           0.80       261\n",
      "   macro avg       0.60      0.56      0.57       261\n",
      "weighted avg       0.76      0.80      0.78       261\n",
      "\n"
     ]
    }
   ],
   "source": [
    "print(matrix)"
   ]
  },
  {
   "cell_type": "code",
   "execution_count": 50,
   "id": "1bcbf765",
   "metadata": {},
   "outputs": [],
   "source": [
    "# Best model will be Rnadom Forest Classifier model.\n",
    "# As its accuracy is highest."
   ]
  }
 ],
 "metadata": {
  "kernelspec": {
   "display_name": "Python 3 (ipykernel)",
   "language": "python",
   "name": "python3"
  },
  "language_info": {
   "codemirror_mode": {
    "name": "ipython",
    "version": 3
   },
   "file_extension": ".py",
   "mimetype": "text/x-python",
   "name": "python",
   "nbconvert_exporter": "python",
   "pygments_lexer": "ipython3",
   "version": "3.9.7"
  }
 },
 "nbformat": 4,
 "nbformat_minor": 5
}
